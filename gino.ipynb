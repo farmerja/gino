{
 "cells": [
  {
   "cell_type": "code",
   "execution_count": 1,
   "metadata": {},
   "outputs": [
    {
     "name": "stdout",
     "output_type": "stream",
     "text": [
      "Using device: cpu\n",
      "here\n"
     ]
    },
    {
     "name": "stderr",
     "output_type": "stream",
     "text": [
      "Epoch 1/10: 100%|██████████| 250/250 [01:01<00:00,  4.04it/s]\n"
     ]
    },
    {
     "name": "stdout",
     "output_type": "stream",
     "text": [
      "Epoch 1/10, Train Loss: 0.4203, Val Loss: 0.0932\n",
      "here\n"
     ]
    },
    {
     "name": "stderr",
     "output_type": "stream",
     "text": [
      "Epoch 2/10: 100%|██████████| 250/250 [01:00<00:00,  4.13it/s]\n"
     ]
    },
    {
     "name": "stdout",
     "output_type": "stream",
     "text": [
      "Epoch 2/10, Train Loss: 0.0937, Val Loss: 0.0452\n",
      "here\n"
     ]
    },
    {
     "name": "stderr",
     "output_type": "stream",
     "text": [
      "Epoch 3/10: 100%|██████████| 250/250 [00:58<00:00,  4.25it/s]\n"
     ]
    },
    {
     "name": "stdout",
     "output_type": "stream",
     "text": [
      "Epoch 3/10, Train Loss: 0.0395, Val Loss: 0.0233\n",
      "here\n"
     ]
    },
    {
     "name": "stderr",
     "output_type": "stream",
     "text": [
      "Epoch 4/10: 100%|██████████| 250/250 [00:57<00:00,  4.37it/s]\n"
     ]
    },
    {
     "name": "stdout",
     "output_type": "stream",
     "text": [
      "Epoch 4/10, Train Loss: 0.0298, Val Loss: 0.0150\n",
      "here\n"
     ]
    },
    {
     "name": "stderr",
     "output_type": "stream",
     "text": [
      "Epoch 5/10: 100%|██████████| 250/250 [00:57<00:00,  4.32it/s]\n"
     ]
    },
    {
     "name": "stdout",
     "output_type": "stream",
     "text": [
      "Epoch 5/10, Train Loss: 0.0211, Val Loss: 0.0244\n",
      "here\n"
     ]
    },
    {
     "name": "stderr",
     "output_type": "stream",
     "text": [
      "Epoch 6/10: 100%|██████████| 250/250 [00:58<00:00,  4.30it/s]\n"
     ]
    },
    {
     "name": "stdout",
     "output_type": "stream",
     "text": [
      "Epoch 6/10, Train Loss: 0.0270, Val Loss: 0.0145\n",
      "here\n"
     ]
    },
    {
     "name": "stderr",
     "output_type": "stream",
     "text": [
      "Epoch 7/10: 100%|██████████| 250/250 [01:00<00:00,  4.14it/s]\n"
     ]
    },
    {
     "name": "stdout",
     "output_type": "stream",
     "text": [
      "Epoch 7/10, Train Loss: 0.0140, Val Loss: 0.0092\n",
      "here\n"
     ]
    },
    {
     "name": "stderr",
     "output_type": "stream",
     "text": [
      "Epoch 8/10: 100%|██████████| 250/250 [00:56<00:00,  4.43it/s]\n"
     ]
    },
    {
     "name": "stdout",
     "output_type": "stream",
     "text": [
      "Epoch 8/10, Train Loss: 0.0239, Val Loss: 0.0108\n",
      "here\n"
     ]
    },
    {
     "name": "stderr",
     "output_type": "stream",
     "text": [
      "Epoch 9/10: 100%|██████████| 250/250 [00:55<00:00,  4.48it/s]\n"
     ]
    },
    {
     "name": "stdout",
     "output_type": "stream",
     "text": [
      "Epoch 9/10, Train Loss: 0.0277, Val Loss: 0.0127\n",
      "here\n"
     ]
    },
    {
     "name": "stderr",
     "output_type": "stream",
     "text": [
      "Epoch 10/10: 100%|██████████| 250/250 [00:57<00:00,  4.32it/s]\n"
     ]
    },
    {
     "name": "stdout",
     "output_type": "stream",
     "text": [
      "Epoch 10/10, Train Loss: 0.0089, Val Loss: 0.0202\n"
     ]
    }
   ],
   "source": [
    "import torch\n",
    "from torch.utils.data import DataLoader\n",
    "from neuralop.models import GINO\n",
    "from tqdm import tqdm\n",
    "from cfd_dataset import *\n",
    "from tensorly import tenalg\n",
    "tenalg.set_backend(\"einsum\")\n",
    "\n",
    "def train_gino(model, train_loader, val_loader, input_geom, latent_queries, num_epochs, learning_rate, device):\n",
    "    model.to(device)\n",
    "    optimizer = torch.optim.Adam(model.parameters(), lr=learning_rate)\n",
    "    criterion = torch.nn.MSELoss()\n",
    "    \n",
    "    for epoch in range(num_epochs):\n",
    "        model.train()\n",
    "        train_loss = 0\n",
    "        print('here')\n",
    "\n",
    "        for x, y, output_queries in tqdm(train_loader, desc=f'Epoch {epoch+1}/{num_epochs}'):\n",
    "        # for (x, y, output_queries) in enumerate(train_loader):\n",
    "            x = x.squeeze(0)\n",
    "            y = y.squeeze(0)\n",
    "            output_queries = output_queries.squeeze(0)\n",
    "            x, y = x.to(device), y.to(device)\n",
    "            output_queries = output_queries.to(device)\n",
    "            \n",
    "            x.requires_grad_(True)  # Enable gradient computation for x\n",
    "            \n",
    "            # print(f\"x shape: {x.shape}\")\n",
    "            # print(f\"y shape: {y.shape}\")\n",
    "            # print(f\"input_geom shape: {input_geom.shape}\")\n",
    "            # print(f\"latent_queries shape: {latent_queries.shape}\")\n",
    "            # print(f\"output_queries shape: {output_queries.shape}\")\n",
    "\n",
    "            optimizer.zero_grad()\n",
    "            ada_in = torch.randn(1, device=device)  # Random ada_in for each batch\n",
    "            output = model(x, input_geom, latent_queries, output_queries, ada_in=ada_in)\n",
    "            loss = criterion(output, y)\n",
    "            loss.backward()\n",
    "            optimizer.step()\n",
    "\n",
    "            train_loss += loss.item()\n",
    "\n",
    "            # Check if all parameters have gradients\n",
    "            n_unused_params = sum(1 for param in model.parameters() if param.grad is None)\n",
    "            assert n_unused_params == 0, f\"{n_unused_params} parameters were unused!\"\n",
    "\n",
    "            # Check if output is finite\n",
    "            assert output.isfinite().all(), \"Output contains non-finite values!\"\n",
    "\n",
    "            if x.shape[0] > 1:\n",
    "                # assert x[1:] accumulates no grad\n",
    "                assert not x.grad[1:].nonzero().any()\n",
    "\n",
    "        train_loss /= len(train_loader)\n",
    "\n",
    "        # Validation\n",
    "        model.eval()\n",
    "        val_loss = 0\n",
    "        with torch.no_grad():\n",
    "            for x, y, output_queries in val_loader:\n",
    "                x = x.squeeze(0)\n",
    "                y = y.squeeze(0)\n",
    "                output_queries = output_queries.squeeze(0)\n",
    "                x, y = x.to(device), y.to(device)\n",
    "                output_queries = output_queries.to(device)\n",
    "                ada_in = torch.randn(1, device=device)\n",
    "                output = model(x, input_geom, latent_queries, output_queries, ada_in=ada_in)\n",
    "                loss = criterion(output, y)\n",
    "                val_loss += loss.item()\n",
    "\n",
    "        val_loss /= len(val_loader)\n",
    "\n",
    "        print(f'Epoch {epoch+1}/{num_epochs}, Train Loss: {train_loss:.4f}, Val Loss: {val_loss:.4f}')\n",
    "\n",
    "    return model\n",
    "\n",
    "# def main():\n",
    "# Hyperparameters\n",
    "batch_size = 1\n",
    "num_epochs = 10\n",
    "learning_rate = 1e-3\n",
    "num_train_samples = 250  # Adjust based on your dataset\n",
    "num_val_samples = 50     # Adjust based on your dataset\n",
    "\n",
    "# Create datasets\n",
    "train_dataset, val_dataset = create_datasets('data/', num_train_samples=250, num_val_samples=50, shuffle=True, seed=42)\n",
    "\n",
    "\n",
    "# Wrap datasets to only return x, y, and output_queries\n",
    "train_dataset_wrapped = CFDDatasetWrapper(train_dataset)\n",
    "val_dataset_wrapped = CFDDatasetWrapper(val_dataset)\n",
    "\n",
    "# Create data loaders\n",
    "train_loader = DataLoader(train_dataset_wrapped, batch_size=batch_size, shuffle=True, num_workers=1)\n",
    "val_loader = DataLoader(val_dataset_wrapped, batch_size=batch_size, shuffle=False, num_workers=1)\n",
    "\n",
    "# Get input_geom and latent_queries from the first item of the dataset\n",
    "_, _, input_geom, latent_queries, _ = train_dataset[0]\n",
    "\n",
    "# Initialize GINO model\n",
    "model = GINO(\n",
    "    in_channels=1,  # 1 for pressure\n",
    "    out_channels=1,  # 1 for smoke concentration\n",
    "    gno_coord_dim=3,\n",
    "    gno_radius=0.3,  # Added from test case\n",
    "    projection_channels=16,  # Added from test case\n",
    "    in_gno_mlp_hidden_layers=[16, 16],  # Added from test case\n",
    "    out_gno_mlp_hidden_layers=[16, 16],  # Added from test case\n",
    "    in_gno_transform_type=\"nonlinear\",  # Added from test case\n",
    "    out_gno_transform_type=\"nonlinear\",  # Added from test case\n",
    "    fno_n_modes=(16, 16, 16),\n",
    "    fno_hidden_channels=64,\n",
    "    fno_lifting_channels=16,  # Added from test case\n",
    "    fno_projection_channels=16,  # Added from test case\n",
    "    fno_norm=\"ada_in\",  # Added from test case\n",
    ")\n",
    "\n",
    "# Train the model\n",
    "device = torch.device('cuda' if torch.cuda.is_available() else 'cpu')\n",
    "print(f\"Using device: {device}\")\n",
    "\n",
    "# Move input_geom and latent_queries to the device\n",
    "input_geom = input_geom.to(device)\n",
    "latent_queries = latent_queries.to(device)\n",
    "    \n",
    "trained_model = train_gino(model, train_loader, val_loader, input_geom, latent_queries, num_epochs, learning_rate, device)\n",
    "\n",
    "# Save the trained model\n",
    "torch.save(trained_model.state_dict(), 'gino_cfd_model.pth')\n",
    "\n",
    "# if __name__ == '__main__':\n",
    "#     main()"
   ]
  },
  {
   "cell_type": "code",
   "execution_count": 2,
   "metadata": {},
   "outputs": [
    {
     "ename": "TypeError",
     "evalue": "'int' object is not iterable",
     "output_type": "error",
     "traceback": [
      "\u001b[0;31m---------------------------------------------------------------------------\u001b[0m",
      "\u001b[0;31mTypeError\u001b[0m                                 Traceback (most recent call last)",
      "Cell \u001b[0;32mIn[2], line 1\u001b[0m\n\u001b[0;32m----> 1\u001b[0m dataset \u001b[38;5;241m=\u001b[39m \u001b[43mCFDDataset\u001b[49m\u001b[43m(\u001b[49m\u001b[38;5;124;43m'\u001b[39;49m\u001b[38;5;124;43mdata/\u001b[39;49m\u001b[38;5;124;43m'\u001b[39;49m\u001b[43m,\u001b[49m\u001b[43m \u001b[49m\u001b[43mnum_train_samples\u001b[49m\u001b[43m)\u001b[49m\n\u001b[1;32m      2\u001b[0m velocity \u001b[38;5;241m=\u001b[39m dataset[\u001b[38;5;241m0\u001b[39m][\u001b[38;5;241m0\u001b[39m]  \u001b[38;5;66;03m# Try to load the first item\u001b[39;00m\n",
      "File \u001b[0;32m~/Desktop/neuraloperator/gino/cfd_dataset.py:62\u001b[0m, in \u001b[0;36mCFDDataset.__init__\u001b[0;34m(self, data_path, file_list, x_normalizer, y_normalizer)\u001b[0m\n\u001b[1;32m     60\u001b[0m \u001b[38;5;66;03m# Use provided normalizers or initialize new ones\u001b[39;00m\n\u001b[1;32m     61\u001b[0m \u001b[38;5;28;01mif\u001b[39;00m x_normalizer \u001b[38;5;129;01mis\u001b[39;00m \u001b[38;5;28;01mNone\u001b[39;00m \u001b[38;5;129;01mor\u001b[39;00m y_normalizer \u001b[38;5;129;01mis\u001b[39;00m \u001b[38;5;28;01mNone\u001b[39;00m:\n\u001b[0;32m---> 62\u001b[0m     \u001b[38;5;28mself\u001b[39m\u001b[38;5;241m.\u001b[39mx_normalizer, \u001b[38;5;28mself\u001b[39m\u001b[38;5;241m.\u001b[39my_normalizer \u001b[38;5;241m=\u001b[39m \u001b[38;5;28;43mself\u001b[39;49m\u001b[38;5;241;43m.\u001b[39;49m\u001b[43m_init_normalizers\u001b[49m\u001b[43m(\u001b[49m\u001b[43m)\u001b[49m\n\u001b[1;32m     63\u001b[0m \u001b[38;5;28;01melse\u001b[39;00m:\n\u001b[1;32m     64\u001b[0m     \u001b[38;5;28mself\u001b[39m\u001b[38;5;241m.\u001b[39mx_normalizer, \u001b[38;5;28mself\u001b[39m\u001b[38;5;241m.\u001b[39my_normalizer \u001b[38;5;241m=\u001b[39m x_normalizer, y_normalizer\n",
      "File \u001b[0;32m~/Desktop/neuraloperator/gino/cfd_dataset.py:113\u001b[0m, in \u001b[0;36mCFDDataset._init_normalizers\u001b[0;34m(self)\u001b[0m\n\u001b[1;32m    111\u001b[0m all_x \u001b[38;5;241m=\u001b[39m []\n\u001b[1;32m    112\u001b[0m all_y \u001b[38;5;241m=\u001b[39m []\n\u001b[0;32m--> 113\u001b[0m \u001b[38;5;28;01mfor\u001b[39;00m file_name \u001b[38;5;129;01min\u001b[39;00m \u001b[38;5;28mself\u001b[39m\u001b[38;5;241m.\u001b[39mfile_list:\n\u001b[1;32m    114\u001b[0m     file_path \u001b[38;5;241m=\u001b[39m os\u001b[38;5;241m.\u001b[39mpath\u001b[38;5;241m.\u001b[39mjoin(\u001b[38;5;28mself\u001b[39m\u001b[38;5;241m.\u001b[39mdata_path, file_name)\n\u001b[1;32m    115\u001b[0m     data \u001b[38;5;241m=\u001b[39m torch\u001b[38;5;241m.\u001b[39mload(file_path)\n",
      "\u001b[0;31mTypeError\u001b[0m: 'int' object is not iterable"
     ]
    }
   ],
   "source": [
    "dataset = CFDDataset('data/', num_train_samples)\n",
    "velocity = dataset[0][0]  # Try to load the first item\n"
   ]
  }
 ],
 "metadata": {
  "kernelspec": {
   "display_name": "physicsml",
   "language": "python",
   "name": "python3"
  },
  "language_info": {
   "codemirror_mode": {
    "name": "ipython",
    "version": 3
   },
   "file_extension": ".py",
   "mimetype": "text/x-python",
   "name": "python",
   "nbconvert_exporter": "python",
   "pygments_lexer": "ipython3",
   "version": "3.10.8"
  }
 },
 "nbformat": 4,
 "nbformat_minor": 2
}
